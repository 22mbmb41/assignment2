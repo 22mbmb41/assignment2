{
 "cells": [
  {
   "cell_type": "markdown",
   "id": "6f249820-2949-4584-bb5f-765aa88a232c",
   "metadata": {},
   "source": [
    " **Question 1**.\n",
    "Given an integer array nums of 2n integers, group these integers into n pairs (a1, b1), (a2, b2),..., (an, bn) such that the sum of min(ai, bi) for all i is maximized. Return the maximized sum.\n",
    "\n",
    "**Example 1:**\n",
    "Input: nums = [1,4,3,2]\n",
    "Output: 4\n",
    "\n",
    "**Explanation:** All possible pairings (ignoring the ordering of elements) are:\n",
    "\n",
    "1. (1, 4), (2, 3) -> min(1, 4) + min(2, 3) = 1 + 2 = 3\n",
    "2. (1, 3), (2, 4) -> min(1, 3) + min(2, 4) = 1 + 2 = 3\n",
    "3. (1, 2), (3, 4) -> min(1, 2) + min(3, 4) = 1 + 3 = 4\n",
    "So the maximum possible sum is 4"
   ]
  },
  {
   "cell_type": "code",
   "execution_count": 1,
   "id": "73d8e320-1320-4dca-b1e4-65384715364f",
   "metadata": {},
   "outputs": [],
   "source": [
    "def pair_sum(nums):\n",
    "    nums.sort()\n",
    "    max_sum = 0\n",
    "    for i in range(0, len(nums)-1, 2):\n",
    "        max_sum += nums[i]\n",
    "    return max_sum"
   ]
  },
  {
   "cell_type": "markdown",
   "id": "292fc08f-feba-49e7-ad3b-1dfa23efbd40",
   "metadata": {},
   "source": [
    "Question 2.\n",
    "Alice has n candies, where the ith candy is of type candyType[i]. Alice noticed that she started to gain weight, so she visited a doctor. \n",
    "\n",
    "The doctor advised Alice to only eat n / 2 of the candies she has (n is always even). Alice likes her candies very much, and she wants to eat the maximum number of different types of candies while still following the doctor's advice. \n",
    "\n",
    "Given the integer array candyType of length n, return the maximum number of different types of candies she can eat if she only eats n / 2 of them.\n",
    "\n",
    "Example 1:\n",
    "Input: candyType = [1,1,2,2,3,3]\n",
    "Output: 3\n",
    "\n",
    "Explanation: Alice can only eat 6 / 2 = 3 candies. Since there are only 3 types, she can eat one of each type."
   ]
  },
  {
   "cell_type": "code",
   "execution_count": 2,
   "id": "587222de-0dd0-478f-a6fb-5912968b4c89",
   "metadata": {},
   "outputs": [],
   "source": [
    "def max_candies(candyType):\n",
    "    unique_candies = set()\n",
    "    for candy in candyType:\n",
    "        unique_candies.add(candy)\n",
    "    return min(len(unique_candies), len(candyType) // 2)\n"
   ]
  },
  {
   "cell_type": "markdown",
   "id": "d0df84c4-e05c-4ca7-acab-f552310a0f39",
   "metadata": {},
   "source": [
    "Question 3.\n",
    "We define a harmonious array as an array where the difference between its maximum value\n",
    "and its minimum value is exactly 1.\n",
    "\n",
    "Given an integer array nums, return the length of its longest harmonious subsequence\n",
    "among all its possible subsequences.\n",
    "\n",
    "A subsequence of an array is a sequence that can be derived from the array by deleting some or no elements without changing the order of the remaining elements.\n",
    "\n",
    "Example 1:\n",
    "Input: nums = [1,3,2,2,5,2,3,7]\n",
    "Output: 5\n",
    "\n",
    "Explanation: The longest harmonious subsequence is [3,2,2,2,3]."
   ]
  },
  {
   "cell_type": "code",
   "execution_count": 3,
   "id": "0d0d1bd1-1948-4040-a1f5-c93f38fbd4e4",
   "metadata": {},
   "outputs": [],
   "source": [
    "def findLHS(nums):\n",
    "    numCounts = {}\n",
    "    for num in nums:\n",
    "        numCounts[num] = numCounts.get(num, 0) + 1\n",
    "\n",
    "    maxLen = 0\n",
    "    for num in numCounts:\n",
    "        if num + 1 in numCounts:\n",
    "            length = numCounts[num] + numCounts[num + 1]\n",
    "            maxLen = max(maxLen, length)\n",
    "\n",
    "    return maxLen\n"
   ]
  },
  {
   "cell_type": "markdown",
   "id": "d56147db-3092-4bde-81a6-ba57fdd1c025",
   "metadata": {},
   "source": [
    "Question 4.\n",
    "You have a long flowerbed in which some of the plots are planted, and some are not.\n",
    "However, flowers cannot be planted in adjacent plots.\n",
    "Given an integer array flowerbed containing 0's and 1's, where 0 means empty and 1 means not empty, and an integer n, return true if n new flowers can be planted in the flowerbed without violating the no-adjacent-flowers rule and false otherwise.\n",
    "\n",
    "Example 1:\n",
    "Input: flowerbed = [1,0,0,0,1], n = 1\n",
    "Output: true"
   ]
  },
  {
   "cell_type": "code",
   "execution_count": 4,
   "id": "1d069da7-f78f-4218-8e27-aff4960aec21",
   "metadata": {},
   "outputs": [],
   "source": [
    "def canPlaceFlowers(flowerbed, n):\n",
    "    count = 0\n",
    "    i = 0\n",
    "    while i < len(flowerbed):\n",
    "        if flowerbed[i] == 0 and (i == 0 or flowerbed[i - 1] == 0) and (i == len(flowerbed) - 1 or flowerbed[i + 1] == 0):\n",
    "            count += 1\n",
    "            flowerbed[i] = 1\n",
    "        i += 1\n",
    "\n",
    "    return count >= n"
   ]
  },
  {
   "cell_type": "markdown",
   "id": "0c866595-0eef-403a-a6de-f540ffbf5829",
   "metadata": {},
   "source": [
    "Question 5.\n",
    "Given an integer array nums, find three numbers whose product is maximum and return the maximum product.\n",
    "\n",
    "Example 1:\n",
    "Input: nums = [1,2,3]\n",
    "Output: 6"
   ]
  },
  {
   "cell_type": "code",
   "execution_count": 5,
   "id": "75ac92c4-592d-4c71-a553-5689100488aa",
   "metadata": {},
   "outputs": [],
   "source": [
    "def maximumProduct(nums):\n",
    "    max1 = max2 = max3 = float('-inf')\n",
    "    min1 = min2 = float('inf')\n",
    "    \n",
    "    for num in nums:\n",
    "        if num > max1:\n",
    "            max3 = max2\n",
    "            max2 = max1\n",
    "            max1 = num\n",
    "        elif num > max2:\n",
    "            max3 = max2\n",
    "            max2 = num\n",
    "        elif num > max3:\n",
    "            max3 = num\n",
    "        \n",
    "        if num < min1:\n",
    "            min2 = min1\n",
    "            min1 = num\n",
    "        elif num < min2:\n",
    "            min2 = num\n",
    "    \n",
    "    return max(max1 * max2 * max3, max1 * min1 * min2)"
   ]
  },
  {
   "cell_type": "markdown",
   "id": "06b215ff-e020-45ab-bcaf-2d1e5e7f7f79",
   "metadata": {},
   "source": [
    "Question 6.\n",
    "Given an array of integers nums which is sorted in ascending order, and an integer target,\n",
    "write a function to search target in nums. If target exists, then return its index. Otherwise,\n",
    "return -1.\n",
    "\n",
    "You must write an algorithm with O(log n) runtime complexity.\n",
    "\n",
    "Input: nums = [-1,0,3,5,9,12], target = 9\n",
    "Output: 4\n",
    "\n",
    "Explanation: 9 exists in nums and its index is 4"
   ]
  },
  {
   "cell_type": "code",
   "execution_count": 6,
   "id": "0e9b09a5-e5f2-4def-a980-3bccc314deb7",
   "metadata": {},
   "outputs": [],
   "source": [
    "def search(nums, target):\n",
    "    left = 0\n",
    "    right = len(nums) - 1\n",
    "\n",
    "    while left <= right:\n",
    "        mid = (left + right) // 2\n",
    "\n",
    "        if nums[mid] == target:\n",
    "            return mid\n",
    "        elif nums[mid] > target:\n",
    "            right = mid - 1\n",
    "        else:\n",
    "            left = mid + 1\n",
    "\n",
    "    return  -1"
   ]
  },
  {
   "cell_type": "markdown",
   "id": "03c05d38-1fb2-4a86-9495-5061785d9016",
   "metadata": {},
   "source": [
    "Question 7.\n",
    "An array is monotonic if it is either monotone increasing or monotone decreasing.\n",
    "\n",
    "An array nums is monotone increasing if for all i <= j, nums[i] <= nums[j]. An array nums is\n",
    "monotone decreasing if for all i <= j, nums[i] >= nums[j].\n",
    "\n",
    "Given an integer array nums, return true if the given array is monotonic, or false otherwise.\n",
    "\n",
    "Example 1:\n",
    "Input: nums = [1,2,2,3]\n",
    "Output: true"
   ]
  },
  {
   "cell_type": "code",
   "execution_count": 7,
   "id": "f438fb41-ec9b-4e9a-bf35-9fad31ad6ade",
   "metadata": {},
   "outputs": [],
   "source": [
    "def isMonotonic(nums):\n",
    "    isIncreasing = True\n",
    "    isDecreasing = True\n",
    "\n",
    "    for i in range(1, len(nums)):\n",
    "        if nums[i] < nums[i - 1]:\n",
    "            isIncreasing = False\n",
    "        if nums[i] > nums[i - 1]:\n",
    "            isDecreasing = False\n",
    "\n",
    "    return isIncreasing or isDecreasing"
   ]
  },
  {
   "cell_type": "markdown",
   "id": "d8abde20-fde0-4689-aa75-58b00b720414",
   "metadata": {},
   "source": [
    "Question 8.\n",
    "You are given an integer array nums and an integer k.\n",
    "\n",
    "In one operation, you can choose any index i where 0 <= i < nums.length and change nums[i] to nums[i] + x where x is an integer from the range [-k, k]. You can apply this operation at most once for each index i.\n",
    "\n",
    "The score of nums is the difference between the maximum and minimum elements in nums.\n",
    "\n",
    "Return the minimum score of nums after applying the mentioned operation at most once for each index in it.\n",
    "\n",
    "Example 1:\n",
    "Input: nums = [1], k = 0\n",
    "Output: 0\n",
    "\n",
    "Explanation: The score is max(nums) - min(nums) = 1 - 1 = 0."
   ]
  },
  {
   "cell_type": "code",
   "execution_count": 8,
   "id": "efa93e6f-50c9-4cab-bf0e-f12737af338b",
   "metadata": {},
   "outputs": [],
   "source": [
    "def minimumScore(nums, k):\n",
    "    maxNum = minNum = nums[0]\n",
    "\n",
    "    for i in range(1, len(nums)):\n",
    "        if nums[i] > maxNum:\n",
    "            maxNum = nums[i]\n",
    "        if nums[i] < minNum:\n",
    "            minNum = nums[i]\n",
    "\n",
    "    score = maxNum - minNum\n",
    "\n",
    "    if score == 0:\n",
    "        return 0\n",
    "\n",
    "    maxDiff = k\n",
    "    minDiff = -k\n",
    "\n",
    "    for i in range(len(nums)):\n",
    "        if nums[i] - k > minNum:\n",
    "            minDiff = min(nums[i] - k, minDiff)\n",
    "        if nums[i] + k < maxNum:\n",
    "            maxDiff = max(nums[i] + k, maxDiff)\n",
    "\n",
    "    return min(maxDiff - minNum, maxNum - minDiff)"
   ]
  },
  {
   "cell_type": "code",
   "execution_count": null,
   "id": "794b36dd-219d-4d7d-a3c5-34132a70909e",
   "metadata": {},
   "outputs": [],
   "source": []
  }
 ],
 "metadata": {
  "kernelspec": {
   "display_name": "Python 3 (ipykernel)",
   "language": "python",
   "name": "python3"
  },
  "language_info": {
   "codemirror_mode": {
    "name": "ipython",
    "version": 3
   },
   "file_extension": ".py",
   "mimetype": "text/x-python",
   "name": "python",
   "nbconvert_exporter": "python",
   "pygments_lexer": "ipython3",
   "version": "3.10.8"
  }
 },
 "nbformat": 4,
 "nbformat_minor": 5
}
